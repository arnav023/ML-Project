{
  "nbformat": 4,
  "nbformat_minor": 0,
  "metadata": {
    "colab": {
      "provenance": [],
      "gpuType": "T4"
    },
    "kernelspec": {
      "name": "python3",
      "display_name": "Python 3"
    },
    "language_info": {
      "name": "python"
    },
    "accelerator": "GPU"
  },
  "cells": [
    {
      "cell_type": "code",
      "execution_count": 9,
      "metadata": {
        "colab": {
          "base_uri": "https://localhost:8080/",
          "height": 1000
        },
        "id": "JcygTuPA0-SN",
        "outputId": "c69511f4-bc3e-4e34-f956-5393aa0a5e55"
      },
      "outputs": [
        {
          "output_type": "stream",
          "name": "stdout",
          "text": [
            "\n",
            "Running SEFOSS with 40 labeled samples per class \n"
          ]
        },
        {
          "output_type": "stream",
          "name": "stderr",
          "text": [
            "/usr/local/lib/python3.11/dist-packages/torch/utils/data/dataloader.py:624: UserWarning: This DataLoader will create 4 worker processes in total. Our suggested max number of worker in current system is 2, which is smaller than what this DataLoader is going to create. Please be aware that excessive worker creation might get DataLoader running slow or even freeze, lower the worker number to avoid potential slowness/freeze if necessary.\n",
            "  warnings.warn(\n"
          ]
        },
        {
          "output_type": "stream",
          "name": "stdout",
          "text": [
            "[Epoch 1] Train Loss: 4.9820 | Val Loss: 5.7055 | Accuracy: 0.0093 | Precision: 0.0050 | Recall: 0.0000 | F1: 0.0001 | AUC-ROC: 0.0000\n"
          ]
        },
        {
          "output_type": "stream",
          "name": "stderr",
          "text": [
            "/usr/local/lib/python3.11/dist-packages/sklearn/metrics/_classification.py:1565: UndefinedMetricWarning: Recall is ill-defined and being set to 0.0 in labels with no true samples. Use `zero_division` parameter to control this behavior.\n",
            "  _warn_prf(average, modifier, f\"{metric.capitalize()} is\", len(result))\n",
            "/usr/local/lib/python3.11/dist-packages/torch/utils/data/dataloader.py:624: UserWarning: This DataLoader will create 4 worker processes in total. Our suggested max number of worker in current system is 2, which is smaller than what this DataLoader is going to create. Please be aware that excessive worker creation might get DataLoader running slow or even freeze, lower the worker number to avoid potential slowness/freeze if necessary.\n",
            "  warnings.warn(\n"
          ]
        },
        {
          "output_type": "stream",
          "name": "stdout",
          "text": [
            "[Epoch 2] Train Loss: 3.6047 | Val Loss: 6.2750 | Accuracy: 0.0095 | Precision: 0.0050 | Recall: 0.0000 | F1: 0.0001 | AUC-ROC: 0.0000\n"
          ]
        },
        {
          "output_type": "stream",
          "name": "stderr",
          "text": [
            "/usr/local/lib/python3.11/dist-packages/sklearn/metrics/_classification.py:1565: UndefinedMetricWarning: Recall is ill-defined and being set to 0.0 in labels with no true samples. Use `zero_division` parameter to control this behavior.\n",
            "  _warn_prf(average, modifier, f\"{metric.capitalize()} is\", len(result))\n",
            "/usr/local/lib/python3.11/dist-packages/torch/utils/data/dataloader.py:624: UserWarning: This DataLoader will create 4 worker processes in total. Our suggested max number of worker in current system is 2, which is smaller than what this DataLoader is going to create. Please be aware that excessive worker creation might get DataLoader running slow or even freeze, lower the worker number to avoid potential slowness/freeze if necessary.\n",
            "  warnings.warn(\n"
          ]
        },
        {
          "output_type": "stream",
          "name": "stdout",
          "text": [
            "[Epoch 3] Train Loss: 2.7936 | Val Loss: 6.7636 | Accuracy: 0.0089 | Precision: 0.0050 | Recall: 0.0000 | F1: 0.0001 | AUC-ROC: 0.0000\n"
          ]
        },
        {
          "output_type": "stream",
          "name": "stderr",
          "text": [
            "/usr/local/lib/python3.11/dist-packages/sklearn/metrics/_classification.py:1565: UndefinedMetricWarning: Recall is ill-defined and being set to 0.0 in labels with no true samples. Use `zero_division` parameter to control this behavior.\n",
            "  _warn_prf(average, modifier, f\"{metric.capitalize()} is\", len(result))\n",
            "/usr/local/lib/python3.11/dist-packages/torch/utils/data/dataloader.py:624: UserWarning: This DataLoader will create 4 worker processes in total. Our suggested max number of worker in current system is 2, which is smaller than what this DataLoader is going to create. Please be aware that excessive worker creation might get DataLoader running slow or even freeze, lower the worker number to avoid potential slowness/freeze if necessary.\n",
            "  warnings.warn(\n"
          ]
        },
        {
          "output_type": "stream",
          "name": "stdout",
          "text": [
            "[Epoch 4] Train Loss: 2.2363 | Val Loss: 7.2082 | Accuracy: 0.0064 | Precision: 0.0050 | Recall: 0.0000 | F1: 0.0001 | AUC-ROC: 0.0000\n"
          ]
        },
        {
          "output_type": "stream",
          "name": "stderr",
          "text": [
            "/usr/local/lib/python3.11/dist-packages/sklearn/metrics/_classification.py:1565: UndefinedMetricWarning: Recall is ill-defined and being set to 0.0 in labels with no true samples. Use `zero_division` parameter to control this behavior.\n",
            "  _warn_prf(average, modifier, f\"{metric.capitalize()} is\", len(result))\n",
            "/usr/local/lib/python3.11/dist-packages/torch/utils/data/dataloader.py:624: UserWarning: This DataLoader will create 4 worker processes in total. Our suggested max number of worker in current system is 2, which is smaller than what this DataLoader is going to create. Please be aware that excessive worker creation might get DataLoader running slow or even freeze, lower the worker number to avoid potential slowness/freeze if necessary.\n",
            "  warnings.warn(\n"
          ]
        },
        {
          "output_type": "stream",
          "name": "stdout",
          "text": [
            "[Epoch 5] Train Loss: 1.8112 | Val Loss: 7.5866 | Accuracy: 0.0060 | Precision: 0.0050 | Recall: 0.0000 | F1: 0.0001 | AUC-ROC: 0.0000\n"
          ]
        },
        {
          "output_type": "stream",
          "name": "stderr",
          "text": [
            "/usr/local/lib/python3.11/dist-packages/sklearn/metrics/_classification.py:1565: UndefinedMetricWarning: Recall is ill-defined and being set to 0.0 in labels with no true samples. Use `zero_division` parameter to control this behavior.\n",
            "  _warn_prf(average, modifier, f\"{metric.capitalize()} is\", len(result))\n"
          ]
        },
        {
          "output_type": "display_data",
          "data": {
            "text/plain": [
              "<Figure size 640x480 with 1 Axes>"
            ],
            "image/png": "[encoded data removed]"
          },
          "metadata": {}
        },
        {
          "output_type": "stream",
          "name": "stdout",
          "text": [
            "\n",
            "Running SEFOSS with 100 labeled samples per class \n"
          ]
        },
        {
          "output_type": "stream",
          "name": "stderr",
          "text": [
            "/usr/local/lib/python3.11/dist-packages/torch/utils/data/dataloader.py:624: UserWarning: This DataLoader will create 4 worker processes in total. Our suggested max number of worker in current system is 2, which is smaller than what this DataLoader is going to create. Please be aware that excessive worker creation might get DataLoader running slow or even freeze, lower the worker number to avoid potential slowness/freeze if necessary.\n",
            "  warnings.warn(\n"
          ]
        },
        {
          "output_type": "stream",
          "name": "stdout",
          "text": [
            "[Epoch 1] Train Loss: 4.2624 | Val Loss: 6.6344 | Accuracy: 0.0096 | Precision: 0.0050 | Recall: 0.0000 | F1: 0.0001 | AUC-ROC: 0.0000\n"
          ]
        },
        {
          "output_type": "stream",
          "name": "stderr",
          "text": [
            "/usr/local/lib/python3.11/dist-packages/sklearn/metrics/_classification.py:1565: UndefinedMetricWarning: Recall is ill-defined and being set to 0.0 in labels with no true samples. Use `zero_division` parameter to control this behavior.\n",
            "  _warn_prf(average, modifier, f\"{metric.capitalize()} is\", len(result))\n",
            "/usr/local/lib/python3.11/dist-packages/torch/utils/data/dataloader.py:624: UserWarning: This DataLoader will create 4 worker processes in total. Our suggested max number of worker in current system is 2, which is smaller than what this DataLoader is going to create. Please be aware that excessive worker creation might get DataLoader running slow or even freeze, lower the worker number to avoid potential slowness/freeze if necessary.\n",
            "  warnings.warn(\n"
          ]
        },
        {
          "output_type": "stream",
          "name": "stdout",
          "text": [
            "[Epoch 2] Train Loss: 2.7715 | Val Loss: 7.9570 | Accuracy: 0.0050 | Precision: 0.0050 | Recall: 0.0000 | F1: 0.0000 | AUC-ROC: 0.0000\n"
          ]
        },
        {
          "output_type": "stream",
          "name": "stderr",
          "text": [
            "/usr/local/lib/python3.11/dist-packages/sklearn/metrics/_classification.py:1565: UndefinedMetricWarning: Recall is ill-defined and being set to 0.0 in labels with no true samples. Use `zero_division` parameter to control this behavior.\n",
            "  _warn_prf(average, modifier, f\"{metric.capitalize()} is\", len(result))\n",
            "/usr/local/lib/python3.11/dist-packages/torch/utils/data/dataloader.py:624: UserWarning: This DataLoader will create 4 worker processes in total. Our suggested max number of worker in current system is 2, which is smaller than what this DataLoader is going to create. Please be aware that excessive worker creation might get DataLoader running slow or even freeze, lower the worker number to avoid potential slowness/freeze if necessary.\n",
            "  warnings.warn(\n"
          ]
        },
        {
          "output_type": "stream",
          "name": "stdout",
          "text": [
            "[Epoch 3] Train Loss: 2.2275 | Val Loss: 8.2685 | Accuracy: 0.0054 | Precision: 0.0050 | Recall: 0.0000 | F1: 0.0001 | AUC-ROC: 0.0000\n"
          ]
        },
        {
          "output_type": "stream",
          "name": "stderr",
          "text": [
            "/usr/local/lib/python3.11/dist-packages/sklearn/metrics/_classification.py:1565: UndefinedMetricWarning: Recall is ill-defined and being set to 0.0 in labels with no true samples. Use `zero_division` parameter to control this behavior.\n",
            "  _warn_prf(average, modifier, f\"{metric.capitalize()} is\", len(result))\n",
            "/usr/local/lib/python3.11/dist-packages/torch/utils/data/dataloader.py:624: UserWarning: This DataLoader will create 4 worker processes in total. Our suggested max number of worker in current system is 2, which is smaller than what this DataLoader is going to create. Please be aware that excessive worker creation might get DataLoader running slow or even freeze, lower the worker number to avoid potential slowness/freeze if necessary.\n",
            "  warnings.warn(\n"
          ]
        },
        {
          "output_type": "stream",
          "name": "stdout",
          "text": [
            "[Epoch 4] Train Loss: 1.8318 | Val Loss: 8.5643 | Accuracy: 0.0048 | Precision: 0.0050 | Recall: 0.0000 | F1: 0.0000 | AUC-ROC: 0.0000\n"
          ]
        },
        {
          "output_type": "stream",
          "name": "stderr",
          "text": [
            "/usr/local/lib/python3.11/dist-packages/sklearn/metrics/_classification.py:1565: UndefinedMetricWarning: Recall is ill-defined and being set to 0.0 in labels with no true samples. Use `zero_division` parameter to control this behavior.\n",
            "  _warn_prf(average, modifier, f\"{metric.capitalize()} is\", len(result))\n",
            "/usr/local/lib/python3.11/dist-packages/torch/utils/data/dataloader.py:624: UserWarning: This DataLoader will create 4 worker processes in total. Our suggested max number of worker in current system is 2, which is smaller than what this DataLoader is going to create. Please be aware that excessive worker creation might get DataLoader running slow or even freeze, lower the worker number to avoid potential slowness/freeze if necessary.\n",
            "  warnings.warn(\n"
          ]
        },
        {
          "output_type": "stream",
          "name": "stdout",
          "text": [
            "[Epoch 5] Train Loss: 1.5586 | Val Loss: 9.0159 | Accuracy: 0.0053 | Precision: 0.0050 | Recall: 0.0000 | F1: 0.0001 | AUC-ROC: 0.0000\n"
          ]
        },
        {
          "output_type": "stream",
          "name": "stderr",
          "text": [
            "/usr/local/lib/python3.11/dist-packages/sklearn/metrics/_classification.py:1565: UndefinedMetricWarning: Recall is ill-defined and being set to 0.0 in labels with no true samples. Use `zero_division` parameter to control this behavior.\n",
            "  _warn_prf(average, modifier, f\"{metric.capitalize()} is\", len(result))\n"
          ]
        },
        {
          "output_type": "display_data",
          "data": {
            "text/plain": [
              "<Figure size 640x480 with 1 Axes>"
            ],
            "image/png": "[encoded data removed]"
          },
          "metadata": {}
        },
        {
          "output_type": "stream",
          "name": "stdout",
          "text": [
            "\n",
            "Running SEFOSS with 250 labeled samples per class \n"
          ]
        },
        {
          "output_type": "stream",
          "name": "stderr",
          "text": [
            "/usr/local/lib/python3.11/dist-packages/torch/utils/data/dataloader.py:624: UserWarning: This DataLoader will create 4 worker processes in total. Our suggested max number of worker in current system is 2, which is smaller than what this DataLoader is going to create. Please be aware that excessive worker creation might get DataLoader running slow or even freeze, lower the worker number to avoid potential slowness/freeze if necessary.\n",
            "  warnings.warn(\n"
          ]
        },
        {
          "output_type": "stream",
          "name": "stdout",
          "text": [
            "[Epoch 1] Train Loss: 3.3846 | Val Loss: 8.2929 | Accuracy: 0.0053 | Precision: 0.0050 | Recall: 0.0000 | F1: 0.0001 | AUC-ROC: 0.0000\n"
          ]
        },
        {
          "output_type": "stream",
          "name": "stderr",
          "text": [
            "/usr/local/lib/python3.11/dist-packages/sklearn/metrics/_classification.py:1565: UndefinedMetricWarning: Recall is ill-defined and being set to 0.0 in labels with no true samples. Use `zero_division` parameter to control this behavior.\n",
            "  _warn_prf(average, modifier, f\"{metric.capitalize()} is\", len(result))\n",
            "/usr/local/lib/python3.11/dist-packages/torch/utils/data/dataloader.py:624: UserWarning: This DataLoader will create 4 worker processes in total. Our suggested max number of worker in current system is 2, which is smaller than what this DataLoader is going to create. Please be aware that excessive worker creation might get DataLoader running slow or even freeze, lower the worker number to avoid potential slowness/freeze if necessary.\n",
            "  warnings.warn(\n"
          ]
        },
        {
          "output_type": "stream",
          "name": "stdout",
          "text": [
            "[Epoch 2] Train Loss: 2.2634 | Val Loss: 9.4763 | Accuracy: 0.0044 | Precision: 0.0050 | Recall: 0.0000 | F1: 0.0000 | AUC-ROC: 0.0000\n"
          ]
        },
        {
          "output_type": "stream",
          "name": "stderr",
          "text": [
            "/usr/local/lib/python3.11/dist-packages/sklearn/metrics/_classification.py:1565: UndefinedMetricWarning: Recall is ill-defined and being set to 0.0 in labels with no true samples. Use `zero_division` parameter to control this behavior.\n",
            "  _warn_prf(average, modifier, f\"{metric.capitalize()} is\", len(result))\n",
            "/usr/local/lib/python3.11/dist-packages/torch/utils/data/dataloader.py:624: UserWarning: This DataLoader will create 4 worker processes in total. Our suggested max number of worker in current system is 2, which is smaller than what this DataLoader is going to create. Please be aware that excessive worker creation might get DataLoader running slow or even freeze, lower the worker number to avoid potential slowness/freeze if necessary.\n",
            "  warnings.warn(\n"
          ]
        },
        {
          "output_type": "stream",
          "name": "stdout",
          "text": [
            "[Epoch 3] Train Loss: 1.9341 | Val Loss: 9.8237 | Accuracy: 0.0050 | Precision: 0.0050 | Recall: 0.0000 | F1: 0.0000 | AUC-ROC: 0.0000\n"
          ]
        },
        {
          "output_type": "stream",
          "name": "stderr",
          "text": [
            "/usr/local/lib/python3.11/dist-packages/sklearn/metrics/_classification.py:1565: UndefinedMetricWarning: Recall is ill-defined and being set to 0.0 in labels with no true samples. Use `zero_division` parameter to control this behavior.\n",
            "  _warn_prf(average, modifier, f\"{metric.capitalize()} is\", len(result))\n",
            "/usr/local/lib/python3.11/dist-packages/torch/utils/data/dataloader.py:624: UserWarning: This DataLoader will create 4 worker processes in total. Our suggested max number of worker in current system is 2, which is smaller than what this DataLoader is going to create. Please be aware that excessive worker creation might get DataLoader running slow or even freeze, lower the worker number to avoid potential slowness/freeze if necessary.\n",
            "  warnings.warn(\n"
          ]
        },
        {
          "output_type": "stream",
          "name": "stdout",
          "text": [
            "[Epoch 4] Train Loss: 1.6970 | Val Loss: 10.2515 | Accuracy: 0.0054 | Precision: 0.0050 | Recall: 0.0000 | F1: 0.0001 | AUC-ROC: 0.0000\n"
          ]
        },
        {
          "output_type": "stream",
          "name": "stderr",
          "text": [
            "/usr/local/lib/python3.11/dist-packages/sklearn/metrics/_classification.py:1565: UndefinedMetricWarning: Recall is ill-defined and being set to 0.0 in labels with no true samples. Use `zero_division` parameter to control this behavior.\n",
            "  _warn_prf(average, modifier, f\"{metric.capitalize()} is\", len(result))\n",
            "/usr/local/lib/python3.11/dist-packages/torch/utils/data/dataloader.py:624: UserWarning: This DataLoader will create 4 worker processes in total. Our suggested max number of worker in current system is 2, which is smaller than what this DataLoader is going to create. Please be aware that excessive worker creation might get DataLoader running slow or even freeze, lower the worker number to avoid potential slowness/freeze if necessary.\n",
            "  warnings.warn(\n"
          ]
        },
        {
          "output_type": "stream",
          "name": "stdout",
          "text": [
            "[Epoch 5] Train Loss: 1.5045 | Val Loss: 10.5511 | Accuracy: 0.0049 | Precision: 0.0050 | Recall: 0.0000 | F1: 0.0000 | AUC-ROC: 0.0000\n"
          ]
        },
        {
          "output_type": "stream",
          "name": "stderr",
          "text": [
            "/usr/local/lib/python3.11/dist-packages/sklearn/metrics/_classification.py:1565: UndefinedMetricWarning: Recall is ill-defined and being set to 0.0 in labels with no true samples. Use `zero_division` parameter to control this behavior.\n",
            "  _warn_prf(average, modifier, f\"{metric.capitalize()} is\", len(result))\n"
          ]
        },
        {
          "output_type": "display_data",
          "data": {
            "text/plain": [
              "<Figure size 640x480 with 1 Axes>"
            ],
            "image/png": "[encoded data removed]"
          },
          "metadata": {}
        },
        {
          "output_type": "stream",
          "name": "stdout",
          "text": [
            "\n",
            "Running SEFOSS with 450 labeled samples per class \n"
          ]
        },
        {
          "output_type": "stream",
          "name": "stderr",
          "text": [
            "/usr/local/lib/python3.11/dist-packages/torch/utils/data/dataloader.py:624: UserWarning: This DataLoader will create 4 worker processes in total. Our suggested max number of worker in current system is 2, which is smaller than what this DataLoader is going to create. Please be aware that excessive worker creation might get DataLoader running slow or even freeze, lower the worker number to avoid potential slowness/freeze if necessary.\n",
            "  warnings.warn(\n"
          ]
        },
        {
          "output_type": "stream",
          "name": "stdout",
          "text": [
            "[Epoch 1] Train Loss: 0.5451 | Val Loss: 6.1468 | Accuracy: 0.0121 | Precision: 0.0051 | Recall: 0.0001 | F1: 0.0001 | AUC-ROC: 0.0000\n"
          ]
        },
        {
          "output_type": "stream",
          "name": "stderr",
          "text": [
            "/usr/local/lib/python3.11/dist-packages/sklearn/metrics/_classification.py:1565: UndefinedMetricWarning: Recall is ill-defined and being set to 0.0 in labels with no true samples. Use `zero_division` parameter to control this behavior.\n",
            "  _warn_prf(average, modifier, f\"{metric.capitalize()} is\", len(result))\n",
            "/usr/local/lib/python3.11/dist-packages/torch/utils/data/dataloader.py:624: UserWarning: This DataLoader will create 4 worker processes in total. Our suggested max number of worker in current system is 2, which is smaller than what this DataLoader is going to create. Please be aware that excessive worker creation might get DataLoader running slow or even freeze, lower the worker number to avoid potential slowness/freeze if necessary.\n",
            "  warnings.warn(\n"
          ]
        },
        {
          "output_type": "stream",
          "name": "stdout",
          "text": [
            "[Epoch 2] Train Loss: 0.4101 | Val Loss: 6.8913 | Accuracy: 0.0092 | Precision: 0.0050 | Recall: 0.0000 | F1: 0.0001 | AUC-ROC: 0.0000\n"
          ]
        },
        {
          "output_type": "stream",
          "name": "stderr",
          "text": [
            "/usr/local/lib/python3.11/dist-packages/sklearn/metrics/_classification.py:1565: UndefinedMetricWarning: Recall is ill-defined and being set to 0.0 in labels with no true samples. Use `zero_division` parameter to control this behavior.\n",
            "  _warn_prf(average, modifier, f\"{metric.capitalize()} is\", len(result))\n",
            "/usr/local/lib/python3.11/dist-packages/torch/utils/data/dataloader.py:624: UserWarning: This DataLoader will create 4 worker processes in total. Our suggested max number of worker in current system is 2, which is smaller than what this DataLoader is going to create. Please be aware that excessive worker creation might get DataLoader running slow or even freeze, lower the worker number to avoid potential slowness/freeze if necessary.\n",
            "  warnings.warn(\n"
          ]
        },
        {
          "output_type": "stream",
          "name": "stdout",
          "text": [
            "[Epoch 3] Train Loss: 0.3483 | Val Loss: 7.7939 | Accuracy: 0.0057 | Precision: 0.0050 | Recall: 0.0000 | F1: 0.0001 | AUC-ROC: 0.0000\n"
          ]
        },
        {
          "output_type": "stream",
          "name": "stderr",
          "text": [
            "/usr/local/lib/python3.11/dist-packages/sklearn/metrics/_classification.py:1565: UndefinedMetricWarning: Recall is ill-defined and being set to 0.0 in labels with no true samples. Use `zero_division` parameter to control this behavior.\n",
            "  _warn_prf(average, modifier, f\"{metric.capitalize()} is\", len(result))\n",
            "/usr/local/lib/python3.11/dist-packages/torch/utils/data/dataloader.py:624: UserWarning: This DataLoader will create 4 worker processes in total. Our suggested max number of worker in current system is 2, which is smaller than what this DataLoader is going to create. Please be aware that excessive worker creation might get DataLoader running slow or even freeze, lower the worker number to avoid potential slowness/freeze if necessary.\n",
            "  warnings.warn(\n"
          ]
        },
        {
          "output_type": "stream",
          "name": "stdout",
          "text": [
            "[Epoch 4] Train Loss: 0.3091 | Val Loss: 7.7632 | Accuracy: 0.0063 | Precision: 0.0050 | Recall: 0.0000 | F1: 0.0001 | AUC-ROC: 0.0000\n"
          ]
        },
        {
          "output_type": "stream",
          "name": "stderr",
          "text": [
            "/usr/local/lib/python3.11/dist-packages/sklearn/metrics/_classification.py:1565: UndefinedMetricWarning: Recall is ill-defined and being set to 0.0 in labels with no true samples. Use `zero_division` parameter to control this behavior.\n",
            "  _warn_prf(average, modifier, f\"{metric.capitalize()} is\", len(result))\n",
            "/usr/local/lib/python3.11/dist-packages/torch/utils/data/dataloader.py:624: UserWarning: This DataLoader will create 4 worker processes in total. Our suggested max number of worker in current system is 2, which is smaller than what this DataLoader is going to create. Please be aware that excessive worker creation might get DataLoader running slow or even freeze, lower the worker number to avoid potential slowness/freeze if necessary.\n",
            "  warnings.warn(\n"
          ]
        },
        {
          "output_type": "stream",
          "name": "stdout",
          "text": [
            "[Epoch 5] Train Loss: 0.2897 | Val Loss: 8.0028 | Accuracy: 0.0077 | Precision: 0.0050 | Recall: 0.0000 | F1: 0.0001 | AUC-ROC: 0.0000\n"
          ]
        },
        {
          "output_type": "stream",
          "name": "stderr",
          "text": [
            "/usr/local/lib/python3.11/dist-packages/sklearn/metrics/_classification.py:1565: UndefinedMetricWarning: Recall is ill-defined and being set to 0.0 in labels with no true samples. Use `zero_division` parameter to control this behavior.\n",
            "  _warn_prf(average, modifier, f\"{metric.capitalize()} is\", len(result))\n"
          ]
        },
        {
          "output_type": "display_data",
          "data": {
            "text/plain": [
              "<Figure size 640x480 with 1 Axes>"
            ],
            "image/png": "[encoded data removed]"
          },
          "metadata": {}
        }
      ],
      "source": [
        "import os\n",
        "import random\n",
        "import torch\n",
        "import torchvision\n",
        "import numpy as np\n",
        "import matplotlib.pyplot as plt\n",
        "from torch import nn, optim\n",
        "from torch.utils.data import DataLoader, Subset\n",
        "from torchvision import datasets, transforms, models\n",
        "from sklearn.metrics import f1_score, precision_score, recall_score, roc_auc_score\n",
        "from tqdm import tqdm\n",
        "\n",
        "#SEFOSS: self training with fine grained object specific supervision and iterative refinement\n",
        "class SEFOSSTrainer:\n",
        "    def __init__(self, model, num_classes, confidence_threshold=0.95, device='cuda'):\n",
        "        self.model = model.to(device)\n",
        "        self.criterion = nn.CrossEntropyLoss()\n",
        "        self.optimizer = optim.Adam(self.model.parameters(), lr=1e-4)\n",
        "        self.device = device\n",
        "        self.threshold = confidence_threshold\n",
        "        self.num_classes = num_classes\n",
        "\n",
        "    def train(self, train_loader, unsup_loader, val_loader, num_epochs=5, save_path='best_model.pth'):\n",
        "        best_f1 = 0\n",
        "        train_losses, val_losses = [], []\n",
        "\n",
        "        for epoch in range(num_epochs):\n",
        "            self.model.train()\n",
        "            epoch_loss = 0\n",
        "\n",
        "            for (x_lab, y_lab), (x_weak, x_strong) in zip(train_loader, unsup_loader):\n",
        "                x_lab, y_lab = x_lab.to(self.device), y_lab.to(self.device)\n",
        "                x_weak, x_strong = x_weak.to(self.device), x_strong.to(self.device)\n",
        "\n",
        "                out_lab = self.model(x_lab)\n",
        "                loss_sup = self.criterion(out_lab, y_lab)\n",
        "\n",
        "                #pseudo labeling with confidence thresholding\n",
        "                with torch.no_grad():\n",
        "                    weak_logits = self.model(x_weak)\n",
        "                    probs = torch.softmax(weak_logits, dim=1)\n",
        "                    max_probs, pseudo_labels = torch.max(probs, dim=1)\n",
        "                    mask = max_probs.ge(self.threshold).float()\n",
        "\n",
        "                strong_logits = self.model(x_strong)\n",
        "                loss_unsup = (self.criterion(strong_logits, pseudo_labels) * mask).mean()\n",
        "\n",
        "                #consistency loss: ensuring consistent predictions for strong and weak augmentations\n",
        "                consistency_loss = nn.MSELoss()(probs, torch.softmax(strong_logits, dim=1))\n",
        "\n",
        "                #combining supervised loss, unsupervised loss and consistency loss\n",
        "                total_loss = loss_sup + loss_unsup + consistency_loss\n",
        "                self.optimizer.zero_grad()\n",
        "                total_loss.backward()\n",
        "                self.optimizer.step()\n",
        "                epoch_loss += total_loss.item()\n",
        "\n",
        "            train_losses.append(epoch_loss / len(train_loader))\n",
        "            val_loss, f1, acc, precision, recall, auc_roc = self.evaluate(val_loader)\n",
        "            val_losses.append(val_loss)\n",
        "\n",
        "            print(f\"[Epoch {epoch+1}] Train Loss: {train_losses[-1]:.4f} | Val Loss: {val_loss:.4f} | \"\n",
        "                  f\"Accuracy: {acc:.4f} | Precision: {precision:.4f} | Recall: {recall:.4f} | F1: {f1:.4f} | AUC-ROC: {auc_roc:.4f}\")\n",
        "\n",
        "            if f1 > best_f1:\n",
        "                best_f1 = f1\n",
        "                torch.save(self.model.state_dict(), save_path)\n",
        "\n",
        "        plt.plot(train_losses, label='Train Loss')\n",
        "        plt.plot(val_losses, label='Val Loss')\n",
        "        plt.legend()\n",
        "        plt.title('Train vs Val Loss')\n",
        "        plt.show()\n",
        "\n",
        "    def evaluate(self, dataloader):\n",
        "        self.model.eval()\n",
        "        y_true, y_pred, y_probs, total_loss = [], [], [], 0\n",
        "\n",
        "        with torch.no_grad():\n",
        "            for x, y in dataloader:\n",
        "                x, y = x.to(self.device), y.to(self.device)\n",
        "                logits = self.model(x)\n",
        "                probs = torch.softmax(logits, dim=1)\n",
        "                preds = torch.argmax(probs, dim=1)\n",
        "                loss = self.criterion(logits, y)\n",
        "                total_loss += loss.item()\n",
        "\n",
        "                y_true.extend(y.cpu().numpy())\n",
        "                y_pred.extend(preds.cpu().numpy())\n",
        "                y_probs.extend(probs.cpu().numpy())\n",
        "\n",
        "        f1 = f1_score(y_true, y_pred, average='macro')\n",
        "        acc = np.mean(np.array(y_true) == np.array(y_pred))\n",
        "        precision = precision_score(y_true, y_pred, average='macro')\n",
        "        recall = recall_score(y_true, y_pred, average='macro')\n",
        "        try:\n",
        "            auc_roc = roc_auc_score(y_true, y_probs, multi_class='ovr')\n",
        "        except:\n",
        "            auc_roc = 0.0\n",
        "\n",
        "        return total_loss / len(dataloader), f1, acc, precision, recall, auc_roc\n",
        "\n",
        "\n",
        "def download_tiny_imagenet():\n",
        "    if not os.path.exists(\"tiny-imagenet-200\"):\n",
        "        url = \"http://cs231n.stanford.edu/tiny-imagenet-200.zip\"\n",
        "        r = requests.get(url, stream=True)\n",
        "        with open(\"tiny-imagenet-200.zip\", \"wb\") as f:\n",
        "            for chunk in r.iter_content(chunk_size=1024): f.write(chunk)\n",
        "        with zipfile.ZipFile(\"tiny-imagenet-200.zip\", \"r\") as zip_ref:\n",
        "            zip_ref.extractall(\".\")\n",
        "        print(\"Downloaded and extracted Tiny ImageNet.\")\n",
        "\n",
        "download_tiny_imagenet()\n",
        "\n",
        "transform_weak = transforms.Compose([\n",
        "    transforms.RandomHorizontalFlip(),\n",
        "    transforms.RandomCrop(64, padding=4),\n",
        "    transforms.ToTensor()\n",
        "])\n",
        "\n",
        "transform_strong = transforms.Compose([\n",
        "    transforms.RandomHorizontalFlip(),\n",
        "    transforms.ColorJitter(brightness=0.4, contrast=0.4, saturation=0.4),\n",
        "    transforms.RandomGrayscale(p=0.2),\n",
        "    transforms.RandomCrop(64, padding=4),\n",
        "    transforms.ToTensor()\n",
        "])\n",
        "\n",
        "transform_val = transforms.Compose([transforms.ToTensor()])\n",
        "\n",
        "class DualTransformDataset(torch.utils.data.Dataset):\n",
        "    def __init__(self, dataset, transform_weak, transform_strong):\n",
        "        self.dataset = dataset\n",
        "        self.transform_weak = transform_weak\n",
        "        self.transform_strong = transform_strong\n",
        "\n",
        "    def __getitem__(self, index):\n",
        "        img, _ = self.dataset[index]\n",
        "        weak_img = self.transform_weak(img)\n",
        "        strong_img = self.transform_strong(img)\n",
        "        return weak_img, strong_img\n",
        "\n",
        "    def __len__(self):\n",
        "        return len(self.dataset)\n",
        "\n",
        "def get_dataloaders_per_class(labeled_per_class, batch_size=64):\n",
        "    root = 'tiny-imagenet-200'\n",
        "    wnids = open(os.path.join(root, 'wnids.txt')).read().splitlines()\n",
        "    class_to_idx = {wnid: i for i, wnid in enumerate(wnids)}\n",
        "\n",
        "    base_dataset = datasets.ImageFolder(os.path.join(root, 'train'))\n",
        "    targets = np.array(base_dataset.targets)\n",
        "\n",
        "    labeled_idx, unlabeled_idx = [], []\n",
        "    for class_id in range(len(wnids)):\n",
        "        idx = np.where(targets == class_id)[0]\n",
        "        np.random.shuffle(idx)\n",
        "        labeled_idx.extend(idx[:labeled_per_class])\n",
        "        unlabeled_idx.extend(idx[labeled_per_class:])\n",
        "\n",
        "    labeled_dataset = Subset(datasets.ImageFolder(os.path.join(root, 'train'), transform=transform_weak), labeled_idx)\n",
        "\n",
        "    base_unlabeled_dataset = Subset(datasets.ImageFolder(os.path.join(root, 'train'), transform=None), unlabeled_idx)\n",
        "    dual_unlabeled_dataset = DualTransformDataset(base_unlabeled_dataset, transform_weak, transform_strong)\n",
        "\n",
        "    val_dataset = datasets.ImageFolder(os.path.join(root, 'val'), transform=transform_val)\n",
        "\n",
        "    labeled_loader = DataLoader(labeled_dataset, batch_size=batch_size, shuffle=True, num_workers=4, pin_memory=True)\n",
        "    unsup_loader = DataLoader(dual_unlabeled_dataset, batch_size=batch_size, shuffle=True, num_workers=4, pin_memory=True)\n",
        "    val_loader = DataLoader(val_dataset, batch_size=batch_size, num_workers=4, pin_memory=True)\n",
        "\n",
        "    return labeled_loader, unsup_loader, val_loader\n",
        "\n",
        "labeled_per_class_options = [40, 100, 250, 450]\n",
        "for labeled_per_class in labeled_per_class_options:\n",
        "    print(f\"\\nRunning SEFOSS with {labeled_per_class} labeled samples per class \")\n",
        "    labeled_loader, unsup_loader, val_loader = get_dataloaders_per_class(labeled_per_class)\n",
        "\n",
        "    resnet18 = models.resnet18(weights=\"IMAGENET1K_V1\")\n",
        "    resnet18.fc = nn.Linear(resnet18.fc.in_features, 200)\n",
        "\n",
        "    trainer = SEFOSSTrainer(resnet18, num_classes=200, confidence_threshold=0.95)\n",
        "    model_save_path = f\"sefoss_resnet18_{labeled_per_class}lpc.pth\"\n",
        "    trainer.train(labeled_loader, unsup_loader, val_loader, num_epochs=5, save_path=model_save_path)\n"
      ]
    },
    {
      "cell_type": "code",
      "source": [
        "import os\n",
        "import torch\n",
        "import numpy as np\n",
        "from torchvision import models, transforms\n",
        "from torch.utils.data import Dataset, DataLoader\n",
        "from PIL import Image\n",
        "from sklearn.metrics import accuracy_score, precision_score, recall_score, f1_score, roc_auc_score\n",
        "import pandas as pd\n",
        "from tqdm import tqdm\n",
        "\n",
        "val_dir = 'tiny-imagenet-200/val'\n",
        "val_img_dir = os.path.join(val_dir, 'images')\n",
        "annotations_path = os.path.join(val_dir, 'val_annotations.txt')\n",
        "\n",
        "val_labels = {}\n",
        "with open(annotations_path, 'r') as f:\n",
        "    for line in f.readlines():\n",
        "        parts = line.strip().split('\\t')\n",
        "        filename, class_id = parts[0], parts[1]\n",
        "        val_labels[filename] = class_id\n",
        "\n",
        "#map class_id (WNID) to class index\n",
        "wnids = open('tiny-imagenet-200/wnids.txt').read().splitlines()\n",
        "class_to_idx = {wnid: idx for idx, wnid in enumerate(wnids)}\n",
        "\n",
        "class TinyImageNetValDataset(Dataset):\n",
        "    def __init__(self, img_dir, labels_dict, class_to_idx, transform=None):\n",
        "        self.img_dir = img_dir\n",
        "        self.labels_dict = labels_dict\n",
        "        self.class_to_idx = class_to_idx\n",
        "        self.filenames = list(labels_dict.keys())\n",
        "        self.transform = transform\n",
        "\n",
        "    def __len__(self):\n",
        "        return len(self.filenames)\n",
        "\n",
        "    def __getitem__(self, idx):\n",
        "        filename = self.filenames[idx]\n",
        "        img_path = os.path.join(self.img_dir, filename)\n",
        "        image = Image.open(img_path).convert('RGB')\n",
        "        label = self.class_to_idx[self.labels_dict[filename]]\n",
        "        if self.transform:\n",
        "            image = self.transform(image)\n",
        "        return image, label\n",
        "\n",
        "val_transform = transforms.Compose([\n",
        "    transforms.ToTensor()\n",
        "])\n",
        "\n",
        "val_dataset = TinyImageNetValDataset(\n",
        "    img_dir=val_img_dir,\n",
        "    labels_dict=val_labels,\n",
        "    class_to_idx=class_to_idx,\n",
        "    transform=val_transform\n",
        ")\n",
        "\n",
        "val_loader = DataLoader(val_dataset, batch_size=64, shuffle=False, num_workers=4, pin_memory=True)\n",
        "\n",
        "device = 'cuda' if torch.cuda.is_available() else 'cpu'\n",
        "\n",
        "model = models.resnet18(weights=None)\n",
        "model.fc = torch.nn.Linear(model.fc.in_features, 200)\n",
        "model.load_state_dict(torch.load('sefoss_resnet18_450lpc.pth', map_location=device))\n",
        "model = model.to(device)\n",
        "model.eval()\n",
        "\n",
        "y_true = []\n",
        "y_pred = []\n",
        "y_probs = []\n",
        "\n",
        "with torch.no_grad():\n",
        "    for x, y in tqdm(val_loader, desc=\"Evaluating\"):\n",
        "        x, y = x.to(device), y.to(device)\n",
        "        logits = model(x)\n",
        "        probs = torch.softmax(logits, dim=1)\n",
        "        preds = torch.argmax(probs, dim=1)\n",
        "\n",
        "        y_true.extend(y.cpu().numpy())\n",
        "        y_pred.extend(preds.cpu().numpy())\n",
        "        y_probs.extend(probs.cpu().numpy())\n",
        "\n",
        "accuracy = accuracy_score(y_true, y_pred)\n",
        "precision = precision_score(y_true, y_pred, average='macro')\n",
        "recall = recall_score(y_true, y_pred, average='macro')\n",
        "f1 = f1_score(y_true, y_pred, average='macro')\n",
        "try:\n",
        "    auc_roc = roc_auc_score(y_true, y_probs, multi_class='ovr')\n",
        "except:\n",
        "    auc_roc = 0.0\n",
        "\n",
        "print(\"\\nFinal Evaluation on Tiny ImageNet Validation Set:\")\n",
        "print(f\"Accuracy:  {accuracy:.4f}\")\n",
        "print(f\"Precision: {precision:.4f}\")\n",
        "print(f\"Recall:    {recall:.4f}\")\n",
        "print(f\"F1 Score:  {f1:.4f}\")\n",
        "print(f\"AUC-ROC:   {auc_roc:.4f}\")\n"
      ],
      "metadata": {
        "colab": {
          "base_uri": "https://localhost:8080/"
        },
        "id": "nWrqeX0WFpQW",
        "outputId": "ee8982c4-2198-4323-ad91-77e8411b896c"
      },
      "execution_count": 12,
      "outputs": [
        {
          "output_type": "stream",
          "name": "stderr",
          "text": [
            "/usr/local/lib/python3.11/dist-packages/torch/utils/data/dataloader.py:624: UserWarning: This DataLoader will create 4 worker processes in total. Our suggested max number of worker in current system is 2, which is smaller than what this DataLoader is going to create. Please be aware that excessive worker creation might get DataLoader running slow or even freeze, lower the worker number to avoid potential slowness/freeze if necessary.\n",
            "  warnings.warn(\n",
            "Evaluating: 100%|██████████| 157/157 [00:04<00:00, 32.50it/s]\n",
            "/usr/local/lib/python3.11/dist-packages/sklearn/metrics/_classification.py:1565: UndefinedMetricWarning: Precision is ill-defined and being set to 0.0 in labels with no predicted samples. Use `zero_division` parameter to control this behavior.\n",
            "  _warn_prf(average, modifier, f\"{metric.capitalize()} is\", len(result))\n"
          ]
        },
        {
          "output_type": "stream",
          "name": "stdout",
          "text": [
            "\n",
            "Final Evaluation on Tiny ImageNet Validation Set:\n",
            "Accuracy:  0.0056\n",
            "Precision: 0.0048\n",
            "Recall:    0.0056\n",
            "F1 Score:  0.0044\n",
            "AUC-ROC:   0.4926\n"
          ]
        }
      ]
    }
  ]
}